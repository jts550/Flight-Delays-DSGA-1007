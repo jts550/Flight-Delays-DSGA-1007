{
 "cells": [
  {
   "cell_type": "code",
   "execution_count": 158,
   "metadata": {
    "scrolled": true
   },
   "outputs": [
    {
     "name": "stderr",
     "output_type": "stream",
     "text": [
      "/anaconda/lib/python3.6/site-packages/IPython/core/interactiveshell.py:2717: DtypeWarning: Columns (7,8) have mixed types. Specify dtype option on import or set low_memory=False.\n",
      "  interactivity=interactivity, compiler=compiler, result=result)\n"
     ]
    }
   ],
   "source": [
    "import pandas as pd\n",
    "import numpy as np\n",
    "import os\n",
    "import datetime\n",
    "\n",
    "#Load flight data\n",
    "flights_1 = pd.read_csv('flights.csv', header=0, sep=',')\n",
    "\n",
    "#load airline data\n",
    "airlines = pd.read_csv('airlines.csv', header=0, sep=',')\n",
    "\n",
    "\n",
    "#merge airline data to flight data\n",
    "flights_2 = pd.merge(flights_1, \n",
    "                     airlines, \n",
    "                     how='left', \n",
    "                     left_on='AIRLINE',\n",
    "                     right_on='IATA_CODE')\n",
    "\n",
    "\n",
    "#load airport data\n",
    "airports = pd.read_csv('airports.csv', header=0, sep=',')\n",
    "\n",
    "#merge airport data to flight data\n",
    "flights_3 = pd.merge(flights_2, \n",
    "                     airports, \n",
    "                     how='left', \n",
    "                     left_on='ORIGIN_AIRPORT', \n",
    "                     right_on='IATA_CODE')\n",
    "\n",
    "\n",
    "flights_4 = pd.merge(flights_3, \n",
    "                     airports, \n",
    "                     how='left', \n",
    "                     left_on='DESTINATION_AIRPORT', \n",
    "                     right_on='IATA_CODE', \n",
    "                     suffixes=('_ORIGIN', '_DESTINATION'))\n",
    "\n",
    "#drop duplicate columns from merging\n",
    "flights = flights_4.drop(['IATA_CODE_y','IATA_CODE_x','IATA_CODE'],axis = 1)\n",
    "\n",
    "#rename columns changed in merging\n",
    "flights = flights.rename(columns = {'AIRLINE_x':'AIRLINE_CODE', 'AIRLINE_y':'AIRLINE_NAME'})\n",
    "\n",
    "#replace NaN with 0\n",
    "flights = flights.fillna(0)\n",
    "\n",
    "\n"
   ]
  },
  {
   "cell_type": "code",
   "execution_count": 159,
   "metadata": {
    "collapsed": true,
    "scrolled": true
   },
   "outputs": [],
   "source": [
    "#Create name friendly columns\n",
    "DayOfWeek = {1: 'Monday', \n",
    "             2: 'Tuesday', \n",
    "             3: 'Wednesday', \n",
    "             4: 'Thursday', \n",
    "             5: 'Friday', \n",
    "             6: 'Saturday', \n",
    "             7: 'Sunday'}\n",
    "\n",
    "MonthName = {1: 'January', \n",
    "              2: 'February', \n",
    "              3: 'March', \n",
    "              4: 'April', \n",
    "              5: 'May', \n",
    "              6: 'June', \n",
    "              7: 'July', \n",
    "              8: 'August', \n",
    "              9: 'September', \n",
    "              10: 'October', \n",
    "              11: 'November', \n",
    "              12: 'December'}\n",
    "\n",
    "CancellationReason = {'A': 'Airline/Carrier',\n",
    "                      'B': 'Weather',\n",
    "                      'C': 'National Air System',\n",
    "                      'D': 'Security'}\n",
    "\n",
    "flights['Day_Of_Week'] = flights['DAY_OF_WEEK'].map(lambda x: DayOfWeek[x])\n",
    "flights['Month_Name'] = flights['MONTH'].map(lambda x: MonthName[x])\n",
    "flights['Cancellation_Reason'] = flights['CANCELLATION_REASON'].map(lambda x: 'N/A' if x == 0 else CancellationReason[x])\n",
    "\n",
    "\n",
    "#make dataframe for only cancelled flights\n",
    "flights_c = flights[flights['CANCELLED']==1]\n",
    "\n",
    "#make dataframe for flights with departure delays\n",
    "flights_ddelays = flights[flights['DEPARTURE_DELAY'] > 0]\n",
    "\n",
    "#make dataframe for flights with arrival delays\n",
    "flights_adelays = flights[flights['ARRIVAL_DELAY'] > 0]\n",
    "\n",
    "\n",
    "#makes hourly bins for departure and arrival times format \"0000\" \n",
    "hour_bins = np.arange(0,2500,100)\n",
    "hour_bins\n",
    "\n",
    "Hours = np.arange(0,2400,100)\n",
    "\n",
    "time_columns = ['SCHEDULED_DEPARTURE','DEPARTURE_TIME', 'SCHEDULED_TIME', 'SCHEDULED_ARRIVAL', 'ARRIVAL_TIME']\n",
    "\n",
    "for i in time_columns:\n",
    "    flights[i.lower()] = pd.cut(flights[i], \n",
    "                                        hour_bins, \n",
    "                                        labels=Hours)\n",
    "    if i[0] == 'S':\n",
    "        flights[i + '_SINE'] = flights[i].apply(lambda x: np.sin(2*np.pi*x/2400))\n",
    "        flights[i + '_COSINE'] = flights[i].apply(lambda x: np.cos(2*np.pi*x/2400))\n"
   ]
  },
  {
   "cell_type": "code",
   "execution_count": 173,
   "metadata": {},
   "outputs": [],
   "source": [
    "# Weather data processing\n",
    "directory = os.getcwd() + os.sep + 'weather_data' + os.sep\n",
    "file_after = '_201501010000_201601010000.txt'\n",
    "all_weather_list = []\n",
    "\n",
    "for IATA in airports['IATA_CODE'].unique():\n",
    "    airport_weather = pd.read_csv(directory + IATA + file_after, skiprows = 5,\n",
    "                                 na_values = 'M', parse_dates = ['valid'])\n",
    "    \n",
    "    airport_weather['IATA'] = IATA\n",
    "    airport_weather['MONTH'] = airport_weather['valid'].apply(lambda x: x.month).astype(int)\n",
    "    airport_weather['DAY'] = airport_weather['valid'].apply(lambda x: x.day).astype(int)\n",
    "    airport_weather['HOUR'] = airport_weather['valid'].apply(lambda x: x.hour * 100).astype(int)\n",
    "    airport_weather['hour'] = pd.cut(airport_weather['HOUR'], hour_bins, labels = Hours, include_lowest = True)\n",
    "\n",
    "    airport_weather.drop(labels = ['station',' mslp',' skyc2',' skyc3',' skyc4',' skyl1',\n",
    "                                   ' skyl2',' skyl3',' skyl4',' presentwx',' metar'],\n",
    "                                     axis = 1, inplace = True)\n",
    "    #Take the first instance when there are multiple overlapping points for one interval\n",
    "    airport_weather.drop_duplicates(['MONTH','DAY','hour'], inplace = True)\n",
    "    all_weather_list.append(airport_weather)\n",
    "\n",
    "weather = pd.concat(all_weather_list)\n",
    "\n",
    "#sub NA values\n",
    "weather[' gust'].fillna(0, inplace = True)\n",
    "for col in ['tmpf',' dwpf',' relh',' drct',' sknt',' p01i',' alti',' vsby']:\n",
    "    weather[col].fillna(-1, inplace = True)"
   ]
  },
  {
   "cell_type": "code",
   "execution_count": 172,
   "metadata": {},
   "outputs": [],
   "source": []
  },
  {
   "cell_type": "code",
   "execution_count": 179,
   "metadata": {
    "collapsed": true
   },
   "outputs": [],
   "source": [
    "#Merge the weather data to the relevant airports\n",
    "flights_weather = pd.merge(flights,\n",
    "                           weather,\n",
    "                           how = 'left',\n",
    "                           left_on = ['ORIGIN_AIRPORT', 'MONTH', 'DAY','departure_time'],\n",
    "                           right_on = ['IATA', 'MONTH', 'DAY', 'hour'])\n",
    "\n",
    "flights_weather = pd.merge(flights_weather,\n",
    "                           weather,\n",
    "                           how = 'left',\n",
    "                           left_on = ['DESTINATION_AIRPORT', 'MONTH', 'DAY','departure_time'],\n",
    "                           right_on = ['IATA', 'MONTH', 'DAY', 'hour'],\n",
    "                           suffixes = ('_ORIGIN', '_DESTINATION'))\n"
   ]
  },
  {
   "cell_type": "code",
   "execution_count": 181,
   "metadata": {},
   "outputs": [
    {
     "data": {
      "text/plain": [
       "YEAR                        0\n",
       "MONTH                       0\n",
       "DAY                         0\n",
       "DAY_OF_WEEK                 0\n",
       "AIRLINE_CODE                0\n",
       "FLIGHT_NUMBER               0\n",
       "TAIL_NUMBER                 0\n",
       "ORIGIN_AIRPORT              0\n",
       "DESTINATION_AIRPORT         0\n",
       "SCHEDULED_DEPARTURE         0\n",
       "DEPARTURE_TIME              0\n",
       "DEPARTURE_DELAY             0\n",
       "TAXI_OUT                    0\n",
       "WHEELS_OFF                  0\n",
       "SCHEDULED_TIME              0\n",
       "ELAPSED_TIME                0\n",
       "AIR_TIME                    0\n",
       "DISTANCE                    0\n",
       "WHEELS_ON                   0\n",
       "TAXI_IN                     0\n",
       "SCHEDULED_ARRIVAL           0\n",
       "ARRIVAL_TIME                0\n",
       "ARRIVAL_DELAY               0\n",
       "DIVERTED                    0\n",
       "CANCELLED                   0\n",
       "CANCELLATION_REASON         0\n",
       "AIR_SYSTEM_DELAY            0\n",
       "SECURITY_DELAY              0\n",
       "AIRLINE_DELAY               0\n",
       "LATE_AIRCRAFT_DELAY         0\n",
       "                        ...  \n",
       "lat_ORIGIN             644248\n",
       "tmpf_ORIGIN            644248\n",
       " dwpf_ORIGIN           644248\n",
       " relh_ORIGIN           644248\n",
       " drct_ORIGIN           644248\n",
       " sknt_ORIGIN           644248\n",
       " p01i_ORIGIN           644248\n",
       " alti_ORIGIN           644248\n",
       " vsby_ORIGIN           644248\n",
       " gust_ORIGIN           644248\n",
       " skyc1_ORIGIN          645694\n",
       "IATA_ORIGIN            644248\n",
       "HOUR_ORIGIN            644248\n",
       "hour_ORIGIN            644248\n",
       "valid_DESTINATION      643720\n",
       "lon_DESTINATION        643720\n",
       "lat_DESTINATION        643720\n",
       "tmpf_DESTINATION       643720\n",
       " dwpf_DESTINATION      643720\n",
       " relh_DESTINATION      643720\n",
       " drct_DESTINATION      643720\n",
       " sknt_DESTINATION      643720\n",
       " p01i_DESTINATION      643720\n",
       " alti_DESTINATION      643720\n",
       " vsby_DESTINATION      643720\n",
       " gust_DESTINATION      643720\n",
       " skyc1_DESTINATION     645139\n",
       "IATA_DESTINATION       643720\n",
       "HOUR_DESTINATION       643720\n",
       "hour_DESTINATION       643720\n",
       "Length: 90, dtype: int64"
      ]
     },
     "execution_count": 181,
     "metadata": {},
     "output_type": "execute_result"
    }
   ],
   "source": [
    "flights_weather.isnull().sum()"
   ]
  },
  {
   "cell_type": "code",
   "execution_count": 184,
   "metadata": {},
   "outputs": [],
   "source": [
    "from sklearn.model_selection import train_test_split\n",
    "\n",
    "\n",
    "X_base = flights[['YEAR', 'MONTH', 'DAY', 'DAY_OF_WEEK', 'SCHEDULED_DEPARTURE','SCHEDULED_TIME', 'DISTANCE','SCHEDULED_ARRIVAL', 'LATITUDE_ORIGIN', 'LONGITUDE_ORIGIN',\n",
    "       'LATITUDE_DESTINATION', 'LONGITUDE_DESTINATION', 'scheduled_departure', 'scheduled_time','scheduled_arrival']]\n",
    "\n",
    "X = flights[['YEAR', 'MONTH', 'DAY', 'DAY_OF_WEEK','SCHEDULED_TIME', 'DISTANCE', 'LATITUDE_ORIGIN', 'LONGITUDE_ORIGIN',\n",
    "       'LATITUDE_DESTINATION', 'LONGITUDE_DESTINATION', 'SCHEDULED_DEPARTURE_SINE', 'SCHEDULED_DEPARTURE_COSINE',\n",
    "            'SCHEDULED_ARRIVAL_SINE', 'SCHEDULED_ARRIVAL_COSINE']]\n",
    "\n",
    "X_weather = flights_weather[['YEAR', 'MONTH', 'DAY', 'DAY_OF_WEEK','SCHEDULED_TIME', 'DISTANCE', 'LATITUDE_ORIGIN', 'LONGITUDE_ORIGIN',\n",
    "       'LATITUDE_DESTINATION', 'LONGITUDE_DESTINATION', 'SCHEDULED_DEPARTURE_SINE', 'SCHEDULED_DEPARTURE_COSINE',\n",
    "            'SCHEDULED_ARRIVAL_SINE', 'SCHEDULED_ARRIVAL_COSINE','tmpf_ORIGIN',' dwpf_ORIGIN',' relh_ORIGIN',' drct_ORIGIN',\n",
    "                            ' sknt_ORIGIN',' p01i_ORIGIN',' alti_ORIGIN',' vsby_ORIGIN','tmpf_DESTINATION',' dwpf_DESTINATION',\n",
    "                            ' relh_DESTINATION',' drct_DESTINATION',' sknt_DESTINATION',' p01i_DESTINATION',' alti_DESTINATION',' vsby_DESTINATION']]\n",
    "\n",
    "Y_weather = flights_weather['CANCELLED']\n",
    "\n",
    "Y = flights['CANCELLED']\n",
    "\n",
    "X = X.fillna(0)\n",
    "X_train, X_test, Y_train, Y_test = train_test_split(\n",
    "    X, Y, test_size=0.25, random_state=10)\n",
    "\n",
    "X_weather = X_weather.fillna(0)\n",
    "X_w_train,X_w_test,Y_w_train,Y_w_test = train_test_split(X_weather,Y_weather,\n",
    "                                                         test_size = 0.25, random_state = 10)"
   ]
  },
  {
   "cell_type": "code",
   "execution_count": null,
   "metadata": {
    "collapsed": true
   },
   "outputs": [],
   "source": []
  },
  {
   "cell_type": "code",
   "execution_count": 185,
   "metadata": {},
   "outputs": [
    {
     "data": {
      "text/plain": [
       "LogisticRegression(C=1.0, class_weight=None, dual=False, fit_intercept=True,\n",
       "          intercept_scaling=1, max_iter=100, multi_class='ovr', n_jobs=1,\n",
       "          penalty='l2', random_state=None, solver='liblinear', tol=0.0001,\n",
       "          verbose=0, warm_start=False)"
      ]
     },
     "execution_count": 185,
     "metadata": {},
     "output_type": "execute_result"
    }
   ],
   "source": [
    "from sklearn.linear_model import LogisticRegression\n",
    "from sklearn.feature_extraction import DictVectorizer\n",
    "from sklearn import metrics\n",
    "\n",
    "#Logistic Regression\n",
    "model_LR = LogisticRegression()\n",
    "model_LR.fit(X_train, Y_train)\n",
    "\n",
    "model_weather = LogisticRegression()\n",
    "model_weather.fit(X_w_train, Y_w_train)\n",
    "\n"
   ]
  },
  {
   "cell_type": "code",
   "execution_count": 186,
   "metadata": {},
   "outputs": [
    {
     "name": "stdout",
     "output_type": "stream",
     "text": [
      "Area under the LR ROC curve on the test data = 0.687\n",
      "Test Data Score = 0.984\n",
      "Weather Data:\n",
      "Area under the LR ROC curve on the test data = 0.979\n",
      "Test Data Score = 0.995\n"
     ]
    }
   ],
   "source": [
    "\n",
    "print(\"Area under the LR ROC curve on the test data = %.3f\"\n",
    "      % metrics.roc_auc_score(y_score = model_LR.predict_proba(X_test)[:,-1:], y_true = Y_test))\n",
    "\n",
    "print(\"Test Data Score = %.3f\" % model_LR.score(X_test ,Y_test ))\n",
    "\n",
    "print(\"Weather Data:\")\n",
    "print(\"Area under the LR ROC curve on the test data = %.3f\"\n",
    "      % metrics.roc_auc_score(y_score = model_weather.predict_proba(X_w_test)[:,-1:], y_true = Y_w_test))\n",
    "print(\"Test Data Score = %.3f\" % model_weather.score(X_w_test ,Y_w_test ))\n",
    "\n"
   ]
  },
  {
   "cell_type": "code",
   "execution_count": null,
   "metadata": {
    "collapsed": true
   },
   "outputs": [],
   "source": []
  }
 ],
 "metadata": {
  "kernelspec": {
   "display_name": "Python 3",
   "language": "python",
   "name": "python3"
  },
  "language_info": {
   "codemirror_mode": {
    "name": "ipython",
    "version": 3
   },
   "file_extension": ".py",
   "mimetype": "text/x-python",
   "name": "python",
   "nbconvert_exporter": "python",
   "pygments_lexer": "ipython3",
   "version": "3.6.1"
  }
 },
 "nbformat": 4,
 "nbformat_minor": 2
}

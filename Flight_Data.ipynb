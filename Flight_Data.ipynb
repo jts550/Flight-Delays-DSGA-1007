{
 "cells": [
  {
   "cell_type": "code",
   "execution_count": 88,
   "metadata": {
    "collapsed": true
   },
   "outputs": [],
   "source": [
    "import numpy as np\n",
    "import pandas as pd\n",
    "import matplotlib.pyplot as plt\n",
    "%matplotlib inline"
   ]
  },
  {
   "cell_type": "code",
   "execution_count": 2,
   "metadata": {},
   "outputs": [
    {
     "name": "stdout",
     "output_type": "stream",
     "text": [
      "(14, 2)\n",
      "(322, 7)\n",
      "(5819079, 31)\n"
     ]
    }
   ],
   "source": [
    "#DATA SHAPES\n",
    "\n",
    "airlines = pd.read_csv('airlines.csv')\n",
    "airports= pd.read_csv('airports.csv')\n",
    "flights = pd.read_csv('flights.csv', low_memory=False)\n",
    "print (airlines.shape)\n",
    "print (airports.shape)\n",
    "print (flights.shape)"
   ]
  },
  {
   "cell_type": "code",
   "execution_count": 82,
   "metadata": {},
   "outputs": [],
   "source": [
    "#ADD AIRLINE/AIRPORT NAMES TO DICTIONARY\n",
    "airlines_dict = airlines.set_index('IATA_CODE')['AIRLINE'].to_dict()\n",
    "airport_dict = airports.set_index('IATA_CODE')['AIRPORT'].to_dict()\n",
    "flights['AIRLINE_NAME'] = flights['AIRLINE'].apply(lambda x: airlines_dict[x])\n",
    "# flights.head(1000)"
   ]
  },
  {
   "cell_type": "code",
   "execution_count": 83,
   "metadata": {},
   "outputs": [
    {
     "name": "stdout",
     "output_type": "stream",
     "text": [
      "Scheduled flights:  5819079\n",
      "Cancelled flights:  89884\n",
      "Operated flights:  5729195\n"
     ]
    }
   ],
   "source": [
    "#FLIGHTS OPERATION\n",
    "\n",
    "cancelled = flights[flights['CANCELLED'] == 1].count()['CANCELLED']\n",
    "scheduled = flights.count()['SCHEDULED_DEPARTURE']\n",
    "operated = scheduled - cancelled\n",
    "\n",
    "print(\"Scheduled flights: \", scheduled)\n",
    "print(\"Cancelled flights: \", cancelled)\n",
    "print(\"Operated flights: \", operated)"
   ]
  },
  {
   "cell_type": "code",
   "execution_count": 84,
   "metadata": {},
   "outputs": [
    {
     "data": {
      "text/html": [
       "<div>\n",
       "<style>\n",
       "    .dataframe thead tr:only-child th {\n",
       "        text-align: right;\n",
       "    }\n",
       "\n",
       "    .dataframe thead th {\n",
       "        text-align: left;\n",
       "    }\n",
       "\n",
       "    .dataframe tbody tr th {\n",
       "        vertical-align: top;\n",
       "    }\n",
       "</style>\n",
       "<table border=\"1\" class=\"dataframe\">\n",
       "  <thead>\n",
       "    <tr style=\"text-align: right;\">\n",
       "      <th></th>\n",
       "      <th>CANCELLATION_RATE</th>\n",
       "    </tr>\n",
       "    <tr>\n",
       "      <th>AIRLINE_NAME</th>\n",
       "      <th></th>\n",
       "    </tr>\n",
       "  </thead>\n",
       "  <tbody>\n",
       "    <tr>\n",
       "      <th>American Eagle Airlines Inc.</th>\n",
       "      <td>0.050996</td>\n",
       "    </tr>\n",
       "    <tr>\n",
       "      <th>Atlantic Southeast Airlines</th>\n",
       "      <td>0.026629</td>\n",
       "    </tr>\n",
       "    <tr>\n",
       "      <th>US Airways Inc.</th>\n",
       "      <td>0.020466</td>\n",
       "    </tr>\n",
       "    <tr>\n",
       "      <th>Spirit Air Lines</th>\n",
       "      <td>0.017073</td>\n",
       "    </tr>\n",
       "    <tr>\n",
       "      <th>Skywest Airlines Inc.</th>\n",
       "      <td>0.016929</td>\n",
       "    </tr>\n",
       "    <tr>\n",
       "      <th>JetBlue Airways</th>\n",
       "      <td>0.016012</td>\n",
       "    </tr>\n",
       "    <tr>\n",
       "      <th>American Airlines Inc.</th>\n",
       "      <td>0.015040</td>\n",
       "    </tr>\n",
       "    <tr>\n",
       "      <th>United Air Lines Inc.</th>\n",
       "      <td>0.012745</td>\n",
       "    </tr>\n",
       "    <tr>\n",
       "      <th>Southwest Airlines Co.</th>\n",
       "      <td>0.012714</td>\n",
       "    </tr>\n",
       "    <tr>\n",
       "      <th>Virgin America</th>\n",
       "      <td>0.008626</td>\n",
       "    </tr>\n",
       "    <tr>\n",
       "      <th>Frontier Airlines Inc.</th>\n",
       "      <td>0.006473</td>\n",
       "    </tr>\n",
       "    <tr>\n",
       "      <th>Delta Air Lines Inc.</th>\n",
       "      <td>0.004366</td>\n",
       "    </tr>\n",
       "    <tr>\n",
       "      <th>Alaska Airlines Inc.</th>\n",
       "      <td>0.003878</td>\n",
       "    </tr>\n",
       "    <tr>\n",
       "      <th>Hawaiian Airlines Inc.</th>\n",
       "      <td>0.002242</td>\n",
       "    </tr>\n",
       "  </tbody>\n",
       "</table>\n",
       "</div>"
      ],
      "text/plain": [
       "                              CANCELLATION_RATE\n",
       "AIRLINE_NAME                                   \n",
       "American Eagle Airlines Inc.           0.050996\n",
       "Atlantic Southeast Airlines            0.026629\n",
       "US Airways Inc.                        0.020466\n",
       "Spirit Air Lines                       0.017073\n",
       "Skywest Airlines Inc.                  0.016929\n",
       "JetBlue Airways                        0.016012\n",
       "American Airlines Inc.                 0.015040\n",
       "United Air Lines Inc.                  0.012745\n",
       "Southwest Airlines Co.                 0.012714\n",
       "Virgin America                         0.008626\n",
       "Frontier Airlines Inc.                 0.006473\n",
       "Delta Air Lines Inc.                   0.004366\n",
       "Alaska Airlines Inc.                   0.003878\n",
       "Hawaiian Airlines Inc.                 0.002242"
      ]
     },
     "execution_count": 84,
     "metadata": {},
     "output_type": "execute_result"
    }
   ],
   "source": [
    "#MEAN FLIGHTS CANCELLATION\n",
    "\n",
    "df_cancel = pd.DataFrame({'CANCELLATION_RATE' : flights.groupby(['AIRLINE_NAME'])['CANCELLED'].mean()})\n",
    "df_cancel.sort_values('CANCELLATION_RATE', ascending=False, inplace=True)\n",
    "df_cancel"
   ]
  },
  {
   "cell_type": "code",
   "execution_count": 85,
   "metadata": {},
   "outputs": [
    {
     "data": {
      "text/html": [
       "<div>\n",
       "<style>\n",
       "    .dataframe thead tr:only-child th {\n",
       "        text-align: right;\n",
       "    }\n",
       "\n",
       "    .dataframe thead th {\n",
       "        text-align: left;\n",
       "    }\n",
       "\n",
       "    .dataframe tbody tr th {\n",
       "        vertical-align: top;\n",
       "    }\n",
       "</style>\n",
       "<table border=\"1\" class=\"dataframe\">\n",
       "  <thead>\n",
       "    <tr style=\"text-align: right;\">\n",
       "      <th></th>\n",
       "      <th>DEPARTURE_DELAY</th>\n",
       "      <th>ARRIVAL_DELAY</th>\n",
       "    </tr>\n",
       "    <tr>\n",
       "      <th>AIRLINE_NAME</th>\n",
       "      <th></th>\n",
       "      <th></th>\n",
       "    </tr>\n",
       "  </thead>\n",
       "  <tbody>\n",
       "    <tr>\n",
       "      <th>Spirit Air Lines</th>\n",
       "      <td>15.944766</td>\n",
       "      <td>14.471800</td>\n",
       "    </tr>\n",
       "    <tr>\n",
       "      <th>Frontier Airlines Inc.</th>\n",
       "      <td>13.350858</td>\n",
       "      <td>12.504706</td>\n",
       "    </tr>\n",
       "    <tr>\n",
       "      <th>JetBlue Airways</th>\n",
       "      <td>11.514353</td>\n",
       "      <td>6.677861</td>\n",
       "    </tr>\n",
       "    <tr>\n",
       "      <th>Atlantic Southeast Airlines</th>\n",
       "      <td>8.715934</td>\n",
       "      <td>6.585379</td>\n",
       "    </tr>\n",
       "    <tr>\n",
       "      <th>American Eagle Airlines Inc.</th>\n",
       "      <td>10.125188</td>\n",
       "      <td>6.457873</td>\n",
       "    </tr>\n",
       "    <tr>\n",
       "      <th>Skywest Airlines Inc.</th>\n",
       "      <td>7.801104</td>\n",
       "      <td>5.845652</td>\n",
       "    </tr>\n",
       "    <tr>\n",
       "      <th>United Air Lines Inc.</th>\n",
       "      <td>14.435441</td>\n",
       "      <td>5.431594</td>\n",
       "    </tr>\n",
       "    <tr>\n",
       "      <th>Virgin America</th>\n",
       "      <td>9.022595</td>\n",
       "      <td>4.737706</td>\n",
       "    </tr>\n",
       "    <tr>\n",
       "      <th>Southwest Airlines Co.</th>\n",
       "      <td>10.581986</td>\n",
       "      <td>4.374964</td>\n",
       "    </tr>\n",
       "    <tr>\n",
       "      <th>US Airways Inc.</th>\n",
       "      <td>6.141137</td>\n",
       "      <td>3.706209</td>\n",
       "    </tr>\n",
       "    <tr>\n",
       "      <th>American Airlines Inc.</th>\n",
       "      <td>8.900856</td>\n",
       "      <td>3.451372</td>\n",
       "    </tr>\n",
       "    <tr>\n",
       "      <th>Hawaiian Airlines Inc.</th>\n",
       "      <td>0.485713</td>\n",
       "      <td>2.023093</td>\n",
       "    </tr>\n",
       "    <tr>\n",
       "      <th>Delta Air Lines Inc.</th>\n",
       "      <td>7.369254</td>\n",
       "      <td>0.186754</td>\n",
       "    </tr>\n",
       "    <tr>\n",
       "      <th>Alaska Airlines Inc.</th>\n",
       "      <td>1.785801</td>\n",
       "      <td>-0.976563</td>\n",
       "    </tr>\n",
       "  </tbody>\n",
       "</table>\n",
       "</div>"
      ],
      "text/plain": [
       "                              DEPARTURE_DELAY  ARRIVAL_DELAY\n",
       "AIRLINE_NAME                                                \n",
       "Spirit Air Lines                    15.944766      14.471800\n",
       "Frontier Airlines Inc.              13.350858      12.504706\n",
       "JetBlue Airways                     11.514353       6.677861\n",
       "Atlantic Southeast Airlines          8.715934       6.585379\n",
       "American Eagle Airlines Inc.        10.125188       6.457873\n",
       "Skywest Airlines Inc.                7.801104       5.845652\n",
       "United Air Lines Inc.               14.435441       5.431594\n",
       "Virgin America                       9.022595       4.737706\n",
       "Southwest Airlines Co.              10.581986       4.374964\n",
       "US Airways Inc.                      6.141137       3.706209\n",
       "American Airlines Inc.               8.900856       3.451372\n",
       "Hawaiian Airlines Inc.               0.485713       2.023093\n",
       "Delta Air Lines Inc.                 7.369254       0.186754\n",
       "Alaska Airlines Inc.                 1.785801      -0.976563"
      ]
     },
     "execution_count": 85,
     "metadata": {},
     "output_type": "execute_result"
    }
   ],
   "source": [
    "#MEAN ARRIVAL/DEPARTURE DELAY IN MINUTES BY AIRLINE\n",
    "\n",
    "df_delay = pd.DataFrame(flights.groupby('AIRLINE_NAME')[['DEPARTURE_DELAY','ARRIVAL_DELAY']].mean())\n",
    "df_delay.sort_values('ARRIVAL_DELAY', ascending=False, inplace=True)\n",
    "df_delay"
   ]
  },
  {
   "cell_type": "code",
   "execution_count": 86,
   "metadata": {},
   "outputs": [
    {
     "data": {
      "text/plain": [
       "[<matplotlib.text.Text at 0x11560bda0>]"
      ]
     },
     "execution_count": 86,
     "metadata": {},
     "output_type": "execute_result"
    },
    {
     "data": {
      "image/png": "[encoded data removed]",
      "text/plain": [
       "<matplotlib.figure.Figure at 0x115b6d0f0>"
      ]
     },
     "metadata": {},
     "output_type": "display_data"
    }
   ],
   "source": [
    "#MEAN ARRIVAL/DEPATURE DELAY BY AIRLINE GRAPH\n",
    "\n",
    "df_delay.sort_values(['ARRIVAL_DELAY','DEPARTURE_DELAY'],ascending=False,inplace=True)\n",
    "plt.figure(figsize=(12,7))\n",
    "sns.set_color_codes(\"deep\")\n",
    "sns.set_context(font_scale=2.5)\n",
    "plot = sns.barplot(x='DEPARTURE_DELAY',y=df_delay.index,data = df_delay,color = 'r')\n",
    "plot = sns.barplot(x='ARRIVAL_DELAY',y=df_delay.index,data = df_delay,color = 'b')\n",
    "plot.set(xlabel='Mean flight delays (Arrival : Blue, Departure : Red)')"
   ]
  },
  {
   "cell_type": "code",
   "execution_count": 87,
   "metadata": {
    "scrolled": true
   },
   "outputs": [
    {
     "data": {
      "image/png": "[encoded data removed]",
      "text/plain": [
       "<matplotlib.figure.Figure at 0x1152e0cc0>"
      ]
     },
     "metadata": {},
     "output_type": "display_data"
    }
   ],
   "source": [
    "#DELAY REASONS\n",
    "\n",
    "delays_weather = flights.loc[(flights['WEATHER_DELAY'] > 0, ['ARRIVAL_DELAY'])].sum()\n",
    "delays_lateaircraft = flights.loc[(flights['LATE_AIRCRAFT_DELAY'] > 0, ['ARRIVAL_DELAY'])].sum()\n",
    "delays_airline = flights.loc[(flights['AIRLINE_DELAY'] > 0, ['ARRIVAL_DELAY'])].sum()\n",
    "delays_security = flights.loc[(flights['SECURITY_DELAY'] > 0, ['ARRIVAL_DELAY'])].sum()\n",
    "delays_airsystem = flights.loc[(flights['AIR_SYSTEM_DELAY'] > 0, ['ARRIVAL_DELAY'])].sum()\n",
    "\n",
    "labels = 'Weather', 'Late Arrival', 'Airline/Carrier', 'Security', 'Air System'\n",
    "sizes = [delays_weather, delays_lateaircraft, delays_airline, delays_security, delays_airsystem]\n",
    "explode = (0.1, 0.1, 0.1, 0.1, 0.1)\n",
    "colors=['blue','red','green','black','orange']\n",
    "\n",
    "fig1, ax1 = plt.subplots(figsize=(6,6))\n",
    "ax1.pie(sizes, colors=colors, explode=explode, labels=labels, autopct='%1.2f%%',\n",
    "        shadow=True, startangle=90)\n",
    "ax1.axis('equal')\n",
    "\n",
    "plt.show()"
   ]
  },
  {
   "cell_type": "code",
   "execution_count": null,
   "metadata": {},
   "outputs": [],
   "source": []
  },
  {
   "cell_type": "code",
   "execution_count": null,
   "metadata": {
    "collapsed": true
   },
   "outputs": [],
   "source": []
  }
 ],
 "metadata": {
  "kernelspec": {
   "display_name": "Python 3",
   "language": "python",
   "name": "python3"
  },
  "language_info": {
   "codemirror_mode": {
    "name": "ipython",
    "version": 3
   },
   "file_extension": ".py",
   "mimetype": "text/x-python",
   "name": "python",
   "nbconvert_exporter": "python",
   "pygments_lexer": "ipython3",
   "version": "3.6.1"
  }
 },
 "nbformat": 4,
 "nbformat_minor": 2
}
